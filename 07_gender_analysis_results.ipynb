{
  "cells": [
    {
      "cell_type": "markdown",
      "metadata": {},
      "source": [
        "**Obesity research in specialty journals from 2000 to 2023: A bibliometric analysis**"
      ]
    },
    {
      "cell_type": "code",
      "execution_count": null,
      "metadata": {},
      "outputs": [],
      "source": [
        "import os\n",
        "import pandas as pd\n",
        "from google.colab import drive"
      ]
    },
    {
      "cell_type": "code",
      "execution_count": null,
      "metadata": {
        "colab": {
          "base_uri": "https://localhost:8080/"
        },
        "id": "fPNfMolIrizV",
        "outputId": "367a30ba-e4f7-4ab3-f31b-457cb6520708"
      },
      "outputs": [
        {
          "name": "stdout",
          "output_type": "stream",
          "text": [
            "Mounted at /content/drive\n"
          ]
        }
      ],
      "source": [
        "# Mount Google Drive\n",
        "drive.mount('/content/drive')\n",
        "\n",
        "path_dir = '/content/drive/My Drive/DATASETS/OBESITY/'"
      ]
    },
    {
      "cell_type": "code",
      "execution_count": null,
      "metadata": {
        "colab": {
          "base_uri": "https://localhost:8080/"
        },
        "id": "uS8miuH_ri2N",
        "outputId": "40a66450-a0de-4dd7-ce78-ba4d50751ed5"
      },
      "outputs": [
        {
          "name": "stdout",
          "output_type": "stream",
          "text": [
            "\n",
            "Statistics for gender_results_2000-2023.csv:\n",
            "  male - Mean: 3.23, Std Dev: 2.83\n",
            "  female - Mean: 2.49, Std Dev: 2.31\n",
            "  undetermined - Mean: 0.28, Std Dev: 0.70\n",
            "\n",
            "Statistics for gender_results_2016-2023.csv:\n",
            "  male - Mean: 3.39, Std Dev: 3.35\n",
            "  female - Mean: 2.93, Std Dev: 2.67\n",
            "  undetermined - Mean: 0.33, Std Dev: 0.76\n",
            "\n",
            "Statistics for gender_results_2008-2015.csv:\n",
            "  male - Mean: 3.15, Std Dev: 2.42\n",
            "  female - Mean: 2.41, Std Dev: 2.01\n",
            "  undetermined - Mean: 0.25, Std Dev: 0.68\n",
            "\n",
            "Statistics for gender_results_2000-2007.csv:\n",
            "  male - Mean: 2.98, Std Dev: 2.06\n",
            "  female - Mean: 1.62, Std Dev: 1.55\n",
            "  undetermined - Mean: 0.20, Std Dev: 0.56\n"
          ]
        }
      ],
      "source": [
        "# Define the CSV filenames\n",
        "filenames = [\n",
        "    'gender_results_2000-2023.csv',\n",
        "    'gender_results_2016-2023.csv',\n",
        "    'gender_results_2008-2015.csv',\n",
        "    'gender_results_2000-2007.csv'\n",
        "]\n",
        "\n",
        "# Loop through each file and compute mean and standard deviation\n",
        "for filename in filenames:\n",
        "    file_path = os.path.join(path_dir, filename)\n",
        "    df = pd.read_csv(file_path)\n",
        "\n",
        "    print(f\"\\nStatistics for {filename}:\")\n",
        "    for column in ['male', 'female', 'undetermined']:\n",
        "        if column in df.columns:\n",
        "            mean_val = df[column].mean()\n",
        "            std_val = df[column].std()\n",
        "            print(f\"  {column} - Mean: {mean_val:.2f}, Std Dev: {std_val:.2f}\")\n",
        "        else:\n",
        "            print(f\"  Column '{column}' not found in {filename}\")"
      ]
    },
    {
      "cell_type": "code",
      "execution_count": null,
      "metadata": {
        "colab": {
          "base_uri": "https://localhost:8080/"
        },
        "id": "3bTVfz-vri7r",
        "outputId": "721c52c2-688c-49dd-9523-2403e8cd4995"
      },
      "outputs": [
        {
          "name": "stdout",
          "output_type": "stream",
          "text": [
            "      Period  Total Authors  Male (%)  Female (%)  Undetermined (%)\n",
            "0  2000-2023         180329     53.80       41.58              4.62\n",
            "1  2016-2023          89680     50.95       44.05              5.00\n",
            "2  2008-2015          63183     54.29       41.48              4.23\n",
            "3  2000-2007          27466     61.99       33.75              4.26\n"
          ]
        }
      ],
      "source": [
        "# Initialize list for storing results\n",
        "results = []\n",
        "\n",
        "for file in filenames:\n",
        "    # Derive the period name from the filename\n",
        "    period = file.replace(\"gender_results_\", \"\").replace(\".csv\", \"\")\n",
        "\n",
        "    # Read the CSV\n",
        "    df = pd.read_csv(os.path.join(path_dir, file))\n",
        "\n",
        "    # Sum across all rows (in case multiple rows exist)\n",
        "    total_male = df['male'].sum()\n",
        "    total_female = df['female'].sum()\n",
        "    total_und = df['undetermined'].sum()\n",
        "\n",
        "    # Total authors\n",
        "    total = total_male + total_female + total_und\n",
        "\n",
        "    # Calculate percentages\n",
        "    pct_male = (total_male / total) * 100 if total > 0 else 0\n",
        "    pct_female = (total_female / total) * 100 if total > 0 else 0\n",
        "    pct_und = (total_und / total) * 100 if total > 0 else 0\n",
        "\n",
        "    # Store results\n",
        "    results.append({\n",
        "        'Period': period,\n",
        "        'Total Authors': total,\n",
        "        'Male (%)': round(pct_male, 2),\n",
        "        'Female (%)': round(pct_female, 2),\n",
        "        'Undetermined (%)': round(pct_und, 2)\n",
        "    })\n",
        "\n",
        "# Convert results into a dataframe\n",
        "results_df = pd.DataFrame(results)\n",
        "\n",
        "# Print results\n",
        "print(results_df)"
      ]
    },
    {
      "cell_type": "code",
      "execution_count": null,
      "metadata": {
        "id": "XgZlw5KjfakB"
      },
      "outputs": [],
      "source": [
        "# Save results to CSV\n",
        "output_file = os.path.join(path_dir, \"gender_percentages_by_period.csv\")\n",
        "results_df.to_csv(output_file, index=False)"
      ]
    }
  ],
  "metadata": {
    "colab": {
      "provenance": []
    },
    "kernelspec": {
      "display_name": "Python 3",
      "name": "python3"
    },
    "language_info": {
      "name": "python"
    }
  },
  "nbformat": 4,
  "nbformat_minor": 0
}
