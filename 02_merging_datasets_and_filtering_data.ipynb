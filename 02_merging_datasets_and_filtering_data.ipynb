{
  "cells": [
    {
      "cell_type": "markdown",
      "id": "2d1ae19f",
      "metadata": {},
      "source": [
        "**Obesity research in specialty journals from 2000 to 2023: A bibliometric analysis**"
      ]
    },
    {
      "cell_type": "code",
      "execution_count": null,
      "id": "fb6c0ced",
      "metadata": {},
      "outputs": [],
      "source": [
        "import os\n",
        "import pandas as pd\n",
        "import glob\n",
        "import re\n",
        "from google.colab import drive"
      ]
    },
    {
      "cell_type": "code",
      "execution_count": null,
      "id": "QadTbHVAWkjT",
      "metadata": {
        "colab": {
          "base_uri": "https://localhost:8080/"
        },
        "id": "QadTbHVAWkjT",
        "outputId": "933451c4-2824-4e0b-fa93-f8193c2e4150"
      },
      "outputs": [
        {
          "name": "stdout",
          "output_type": "stream",
          "text": [
            "Mounted at /content/drive\n"
          ]
        }
      ],
      "source": [
        "# Mount Google Drive\n",
        "drive.flush_and_unmount()  # Unmount Google Drive if already mounted\n",
        "drive.mount('/content/drive')"
      ]
    },
    {
      "cell_type": "markdown",
      "id": "JlJjTNEXqS7S",
      "metadata": {
        "id": "JlJjTNEXqS7S"
      },
      "source": [
        "**Merging the CSV files**"
      ]
    },
    {
      "cell_type": "code",
      "execution_count": null,
      "id": "63490c6d-27f3-453b-8051-68d5e671b67b",
      "metadata": {
        "id": "63490c6d-27f3-453b-8051-68d5e671b67b"
      },
      "outputs": [],
      "source": [
        "# Set working directory\n",
        "folder = '/content/drive/My Drive/OBESITY.JOURNALS/CSV'\n",
        "os.chdir(folder)"
      ]
    },
    {
      "cell_type": "code",
      "execution_count": null,
      "id": "00398556-8d3c-4e08-ba22-3e3a687a2850",
      "metadata": {
        "colab": {
          "base_uri": "https://localhost:8080/"
        },
        "id": "00398556-8d3c-4e08-ba22-3e3a687a2850",
        "outputId": "20d37c0a-5844-484d-9c94-31f2afa3ade5"
      },
      "outputs": [
        {
          "name": "stdout",
          "output_type": "stream",
          "text": [
            "Merging complete! Files saved as 'merged_results.csv'\n"
          ]
        }
      ],
      "source": [
        "# 1. List all CSV files\n",
        "csv_files = glob.glob(os.path.join(folder, '*.csv'))\n",
        "\n",
        "# 2. Group files by ISSN\n",
        "issn_pattern = re.compile(r'results_(\\d{8})_id_.*\\.csv')\n",
        "issn_groups = {}\n",
        "for file in csv_files:\n",
        "    match = issn_pattern.search(os.path.basename(file))\n",
        "    if match:\n",
        "        issn = match.group(1)\n",
        "        issn_groups.setdefault(issn, []).append(file)\n",
        "\n",
        "# 3. Merge files for each ISSN\n",
        "issn_dfs = []\n",
        "for issn, files in issn_groups.items():\n",
        "    dfs = []\n",
        "    for f in files:\n",
        "        df = pd.read_csv(f)\n",
        "        dfs.append(df)\n",
        "    # Merge all DataFrames for this ISSN on 'id'\n",
        "    merged = dfs[0]\n",
        "    for df in dfs[1:]:\n",
        "        # Avoid duplicate columns\n",
        "        merged = pd.merge(merged, df, on='id', how='outer', suffixes=('', '_dup'))\n",
        "        # Drop duplicate columns\n",
        "        dup_cols = [col for col in merged.columns if col.endswith('_dup')]\n",
        "        merged = merged.drop(columns=dup_cols)\n",
        "    # Optionally, add ISSN as a column\n",
        "    merged['issn'] = issn\n",
        "    issn_dfs.append(merged)\n",
        "\n",
        "# 4. Merge all ISSN DataFrames on 'id'\n",
        "final_df = pd.concat(issn_dfs, ignore_index=True, sort=False)\n",
        "\n",
        "# 5. Export as CSV\n",
        "final_df.to_csv(os.path.join(folder, 'merged_results.csv'), index=False)\n",
        "print(\"Merging complete! Files saved as 'merged_results.csv'\")"
      ]
    },
    {
      "cell_type": "markdown",
      "id": "psDLXZUvqXai",
      "metadata": {
        "id": "psDLXZUvqXai"
      },
      "source": [
        "**Filtering the dataset**"
      ]
    },
    {
      "cell_type": "code",
      "execution_count": null,
      "id": "b270ddb0-d9b5-4732-a1df-f7f0d70d02ca",
      "metadata": {
        "colab": {
          "base_uri": "https://localhost:8080/"
        },
        "id": "b270ddb0-d9b5-4732-a1df-f7f0d70d02ca",
        "outputId": "2bca8209-1e35-4c29-e1b0-234b7188ffc5"
      },
      "outputs": [
        {
          "name": "stdout",
          "output_type": "stream",
          "text": [
            "<class 'pandas.core.frame.DataFrame'>\n",
            "RangeIndex: 44197 entries, 0 to 44196\n",
            "Data columns (total 31 columns):\n",
            " #   Column                Non-Null Count  Dtype  \n",
            "---  ------                --------------  -----  \n",
            " 0   id                    44197 non-null  object \n",
            " 1   funders               18315 non-null  object \n",
            " 2   abstract              35729 non-null  object \n",
            " 3   category_bra          30654 non-null  object \n",
            " 4   category_for          43144 non-null  object \n",
            " 5   category_hra          28490 non-null  object \n",
            " 6   category_hrcs_hc      26377 non-null  object \n",
            " 7   category_rcdc         37194 non-null  object \n",
            " 8   category_sdg          7393 non-null   object \n",
            " 9   category_uoa          38048 non-null  object \n",
            " 10  category_hrcs_rac     17141 non-null  object \n",
            " 11  category_icrp_cso     4368 non-null   object \n",
            " 12  category_icrp_ct      6665 non-null   object \n",
            " 13  recent_citations      44167 non-null  float64\n",
            " 14  reference_ids         36282 non-null  object \n",
            " 15  concepts              42101 non-null  object \n",
            " 16  supporting_grant_ids  11696 non-null  object \n",
            " 17  researchers           40903 non-null  object \n",
            " 18  altmetric             22773 non-null  float64\n",
            " 19  title                 44167 non-null  object \n",
            " 20  authors               42556 non-null  object \n",
            " 21  pages                 44018 non-null  object \n",
            " 22  type                  44167 non-null  object \n",
            " 23  year                  44167 non-null  float64\n",
            " 24  journal.id            44167 non-null  object \n",
            " 25  journal.title         44167 non-null  object \n",
            " 26  volume                43685 non-null  object \n",
            " 27  issue                 41553 non-null  object \n",
            " 28  authors_count         44197 non-null  int64  \n",
            " 29  concepts_scores       42104 non-null  object \n",
            " 30  issn                  44197 non-null  int64  \n",
            "dtypes: float64(3), int64(2), object(26)\n",
            "memory usage: 10.5+ MB\n"
          ]
        }
      ],
      "source": [
        "# Load the dataset as df\n",
        "filename = os.path.join(folder, 'merged_results.csv')\n",
        "df = pd.read_csv(filename)\n",
        "df.info()"
      ]
    },
    {
      "cell_type": "code",
      "execution_count": null,
      "id": "90d41205-5993-4a70-967b-2a6a2c06ced9",
      "metadata": {
        "colab": {
          "base_uri": "https://localhost:8080/"
        },
        "id": "90d41205-5993-4a70-967b-2a6a2c06ced9",
        "outputId": "9ace2f94-e16b-4488-e1b3-c10229a56b08"
      },
      "outputs": [
        {
          "name": "stdout",
          "output_type": "stream",
          "text": [
            "['article' nan]\n"
          ]
        }
      ],
      "source": [
        "print(df['type'].unique())"
      ]
    },
    {
      "cell_type": "code",
      "execution_count": null,
      "id": "IO8-yY3MrbeW",
      "metadata": {
        "colab": {
          "base_uri": "https://localhost:8080/"
        },
        "id": "IO8-yY3MrbeW",
        "outputId": "5d15249c-39fd-44fd-a75c-25552b9c4dc1"
      },
      "outputs": [
        {
          "name": "stdout",
          "output_type": "stream",
          "text": [
            "Number of NaNs in 'type' column: 30\n"
          ]
        }
      ],
      "source": [
        "nan_type = df['type'].isna().sum()\n",
        "print(f\"Number of NaNs in 'type' column: {nan_type}\")"
      ]
    },
    {
      "cell_type": "code",
      "execution_count": null,
      "id": "842eef5c-68ce-4c2a-a93a-90f49dfdab13",
      "metadata": {
        "colab": {
          "base_uri": "https://localhost:8080/",
          "height": 586
        },
        "id": "842eef5c-68ce-4c2a-a93a-90f49dfdab13",
        "outputId": "d3e4bce9-1184-41cd-aab5-269e1f0ea0ab"
      },
      "outputs": [
        {
          "data": {
            "text/html": [
              "<div>\n",
              "<style scoped>\n",
              "    .dataframe tbody tr th:only-of-type {\n",
              "        vertical-align: middle;\n",
              "    }\n",
              "\n",
              "    .dataframe tbody tr th {\n",
              "        vertical-align: top;\n",
              "    }\n",
              "\n",
              "    .dataframe thead th {\n",
              "        text-align: right;\n",
              "    }\n",
              "</style>\n",
              "<table border=\"1\" class=\"dataframe\">\n",
              "  <thead>\n",
              "    <tr style=\"text-align: right;\">\n",
              "      <th></th>\n",
              "      <th>count</th>\n",
              "    </tr>\n",
              "    <tr>\n",
              "      <th>journal.title</th>\n",
              "      <th></th>\n",
              "    </tr>\n",
              "  </thead>\n",
              "  <tbody>\n",
              "    <tr>\n",
              "      <th>Obesity Surgery</th>\n",
              "      <td>11117</td>\n",
              "    </tr>\n",
              "    <tr>\n",
              "      <th>International Journal of Obesity</th>\n",
              "      <td>10077</td>\n",
              "    </tr>\n",
              "    <tr>\n",
              "      <th>Obesity</th>\n",
              "      <td>8873</td>\n",
              "    </tr>\n",
              "    <tr>\n",
              "      <th>Obesity Research &amp; Clinical Practice</th>\n",
              "      <td>2867</td>\n",
              "    </tr>\n",
              "    <tr>\n",
              "      <th>Obesity Reviews</th>\n",
              "      <td>2820</td>\n",
              "    </tr>\n",
              "    <tr>\n",
              "      <th>Pediatric Obesity</th>\n",
              "      <td>1715</td>\n",
              "    </tr>\n",
              "    <tr>\n",
              "      <th>Childhood Obesity</th>\n",
              "      <td>1700</td>\n",
              "    </tr>\n",
              "    <tr>\n",
              "      <th>Obesity Facts</th>\n",
              "      <td>1202</td>\n",
              "    </tr>\n",
              "    <tr>\n",
              "      <th>Journal of Obesity</th>\n",
              "      <td>821</td>\n",
              "    </tr>\n",
              "    <tr>\n",
              "      <th>Clinical Obesity</th>\n",
              "      <td>752</td>\n",
              "    </tr>\n",
              "    <tr>\n",
              "      <th>Obesity Science &amp; Practice</th>\n",
              "      <td>700</td>\n",
              "    </tr>\n",
              "    <tr>\n",
              "      <th>Current Obesity Reports</th>\n",
              "      <td>619</td>\n",
              "    </tr>\n",
              "    <tr>\n",
              "      <th>Obesity Medicine</th>\n",
              "      <td>577</td>\n",
              "    </tr>\n",
              "    <tr>\n",
              "      <th>BMC Obesity</th>\n",
              "      <td>240</td>\n",
              "    </tr>\n",
              "    <tr>\n",
              "      <th>The Open Obesity Journal</th>\n",
              "      <td>87</td>\n",
              "    </tr>\n",
              "  </tbody>\n",
              "</table>\n",
              "</div><br><label><b>dtype:</b> int64</label>"
            ],
            "text/plain": [
              "journal.title\n",
              "Obesity Surgery                         11117\n",
              "International Journal of Obesity        10077\n",
              "Obesity                                  8873\n",
              "Obesity Research & Clinical Practice     2867\n",
              "Obesity Reviews                          2820\n",
              "Pediatric Obesity                        1715\n",
              "Childhood Obesity                        1700\n",
              "Obesity Facts                            1202\n",
              "Journal of Obesity                        821\n",
              "Clinical Obesity                          752\n",
              "Obesity Science & Practice                700\n",
              "Current Obesity Reports                   619\n",
              "Obesity Medicine                          577\n",
              "BMC Obesity                               240\n",
              "The Open Obesity Journal                   87\n",
              "Name: count, dtype: int64"
            ]
          },
          "execution_count": 9,
          "metadata": {},
          "output_type": "execute_result"
        }
      ],
      "source": [
        "df['journal.title'].value_counts()"
      ]
    },
    {
      "cell_type": "code",
      "execution_count": null,
      "id": "530a90bb-2e5b-4a70-a83d-ec476449b143",
      "metadata": {
        "id": "530a90bb-2e5b-4a70-a83d-ec476449b143"
      },
      "outputs": [],
      "source": [
        "# Create a copy to avoid modifying the original dataframe\n",
        "filtered_df = df.copy()\n",
        "\n",
        "# Convert 'year' to numeric, but keep original values where conversion fails\n",
        "filtered_df['year_numeric'] = pd.to_numeric(filtered_df['year'], errors='coerce')\n",
        "\n",
        "# Create filter condition:\n",
        "# Keep rows where year is NOT numeric (string values) OR where numeric year is between 2000-2023\n",
        "condition = (\n",
        "    filtered_df['year_numeric'].isna() |  # Keep rows where conversion to numeric failed (strings)\n",
        "    ((filtered_df['year_numeric'] >= 2000) & (filtered_df['year_numeric'] <= 2023))  # Keep numeric years 2000-2023\n",
        ")\n",
        "\n",
        "# Apply the filter\n",
        "filtered_df = filtered_df[condition]\n",
        "\n",
        "# Drop the helper column if you don't need it\n",
        "filtered_df = filtered_df.drop('year_numeric', axis=1)"
      ]
    },
    {
      "cell_type": "code",
      "execution_count": null,
      "id": "ba16d8e2-53a9-4404-9cd4-d81b6107f73c",
      "metadata": {
        "colab": {
          "base_uri": "https://localhost:8080/"
        },
        "id": "ba16d8e2-53a9-4404-9cd4-d81b6107f73c",
        "outputId": "ba416513-5c43-4e63-926e-c111be1b4ffe"
      },
      "outputs": [
        {
          "name": "stdout",
          "output_type": "stream",
          "text": [
            "<class 'pandas.core.frame.DataFrame'>\n",
            "Index: 36918 entries, 0 to 44196\n",
            "Data columns (total 31 columns):\n",
            " #   Column                Non-Null Count  Dtype  \n",
            "---  ------                --------------  -----  \n",
            " 0   id                    36918 non-null  object \n",
            " 1   funders               16390 non-null  object \n",
            " 2   abstract              30061 non-null  object \n",
            " 3   category_bra          25944 non-null  object \n",
            " 4   category_for          36075 non-null  object \n",
            " 5   category_hra          24208 non-null  object \n",
            " 6   category_hrcs_hc      22400 non-null  object \n",
            " 7   category_rcdc         31302 non-null  object \n",
            " 8   category_sdg          6258 non-null   object \n",
            " 9   category_uoa          31936 non-null  object \n",
            " 10  category_hrcs_rac     14750 non-null  object \n",
            " 11  category_icrp_cso     3847 non-null   object \n",
            " 12  category_icrp_ct      5749 non-null   object \n",
            " 13  recent_citations      36888 non-null  float64\n",
            " 14  reference_ids         32756 non-null  object \n",
            " 15  concepts              35246 non-null  object \n",
            " 16  supporting_grant_ids  10439 non-null  object \n",
            " 17  researchers           34820 non-null  object \n",
            " 18  altmetric             20475 non-null  float64\n",
            " 19  title                 36888 non-null  object \n",
            " 20  authors               35537 non-null  object \n",
            " 21  pages                 36806 non-null  object \n",
            " 22  type                  36888 non-null  object \n",
            " 23  year                  36888 non-null  float64\n",
            " 24  journal.id            36888 non-null  object \n",
            " 25  journal.title         36888 non-null  object \n",
            " 26  volume                36769 non-null  object \n",
            " 27  issue                 35202 non-null  object \n",
            " 28  authors_count         36918 non-null  int64  \n",
            " 29  concepts_scores       35249 non-null  object \n",
            " 30  issn                  36918 non-null  int64  \n",
            "dtypes: float64(3), int64(2), object(26)\n",
            "memory usage: 9.0+ MB\n"
          ]
        }
      ],
      "source": [
        "filtered_df.info()"
      ]
    },
    {
      "cell_type": "code",
      "execution_count": null,
      "id": "caf26e96-9841-4e26-b73a-b22a4165be78",
      "metadata": {
        "id": "caf26e96-9841-4e26-b73a-b22a4165be78"
      },
      "outputs": [],
      "source": [
        "filtered_df = filtered_df[filtered_df['abstract'] != 'nan']"
      ]
    },
    {
      "cell_type": "code",
      "execution_count": null,
      "id": "a2876b4e-6180-4fe8-a54b-bbfe0263342a",
      "metadata": {
        "colab": {
          "base_uri": "https://localhost:8080/"
        },
        "id": "a2876b4e-6180-4fe8-a54b-bbfe0263342a",
        "outputId": "315715ef-a470-4b5c-ad25-d873c7b2b565"
      },
      "outputs": [
        {
          "name": "stdout",
          "output_type": "stream",
          "text": [
            "<class 'pandas.core.frame.DataFrame'>\n",
            "Index: 30061 entries, 0 to 43420\n",
            "Data columns (total 31 columns):\n",
            " #   Column                Non-Null Count  Dtype  \n",
            "---  ------                --------------  -----  \n",
            " 0   id                    30061 non-null  object \n",
            " 1   funders               15962 non-null  object \n",
            " 2   abstract              30061 non-null  object \n",
            " 3   category_bra          24511 non-null  object \n",
            " 4   category_for          30057 non-null  object \n",
            " 5   category_hra          23646 non-null  object \n",
            " 6   category_hrcs_hc      21569 non-null  object \n",
            " 7   category_rcdc         29610 non-null  object \n",
            " 8   category_sdg          5844 non-null   object \n",
            " 9   category_uoa          30042 non-null  object \n",
            " 10  category_hrcs_rac     14285 non-null  object \n",
            " 11  category_icrp_cso     3628 non-null   object \n",
            " 12  category_icrp_ct      5293 non-null   object \n",
            " 13  recent_citations      30061 non-null  float64\n",
            " 14  reference_ids         29562 non-null  object \n",
            " 15  concepts              30049 non-null  object \n",
            " 16  supporting_grant_ids  10115 non-null  object \n",
            " 17  researchers           29888 non-null  object \n",
            " 18  altmetric             19173 non-null  float64\n",
            " 19  title                 30061 non-null  object \n",
            " 20  authors               30041 non-null  object \n",
            " 21  pages                 30044 non-null  object \n",
            " 22  type                  30061 non-null  object \n",
            " 23  year                  30061 non-null  float64\n",
            " 24  journal.id            30061 non-null  object \n",
            " 25  journal.title         30061 non-null  object \n",
            " 26  volume                30049 non-null  object \n",
            " 27  issue                 29562 non-null  object \n",
            " 28  authors_count         30061 non-null  int64  \n",
            " 29  concepts_scores       30049 non-null  object \n",
            " 30  issn                  30061 non-null  int64  \n",
            "dtypes: float64(3), int64(2), object(26)\n",
            "memory usage: 7.3+ MB\n"
          ]
        }
      ],
      "source": [
        "filtered_df.info()"
      ]
    },
    {
      "cell_type": "code",
      "execution_count": null,
      "id": "zNDK11UKcPVe",
      "metadata": {
        "colab": {
          "base_uri": "https://localhost:8080/",
          "height": 586
        },
        "id": "zNDK11UKcPVe",
        "outputId": "203458f0-e693-4e3e-a561-d2beb6a92280"
      },
      "outputs": [
        {
          "data": {
            "text/html": [
              "<div>\n",
              "<style scoped>\n",
              "    .dataframe tbody tr th:only-of-type {\n",
              "        vertical-align: middle;\n",
              "    }\n",
              "\n",
              "    .dataframe tbody tr th {\n",
              "        vertical-align: top;\n",
              "    }\n",
              "\n",
              "    .dataframe thead th {\n",
              "        text-align: right;\n",
              "    }\n",
              "</style>\n",
              "<table border=\"1\" class=\"dataframe\">\n",
              "  <thead>\n",
              "    <tr style=\"text-align: right;\">\n",
              "      <th></th>\n",
              "      <th>count</th>\n",
              "    </tr>\n",
              "    <tr>\n",
              "      <th>journal.title</th>\n",
              "      <th></th>\n",
              "    </tr>\n",
              "  </thead>\n",
              "  <tbody>\n",
              "    <tr>\n",
              "      <th>Obesity Surgery</th>\n",
              "      <td>7585</td>\n",
              "    </tr>\n",
              "    <tr>\n",
              "      <th>Obesity</th>\n",
              "      <td>6854</td>\n",
              "    </tr>\n",
              "    <tr>\n",
              "      <th>International Journal of Obesity</th>\n",
              "      <td>6021</td>\n",
              "    </tr>\n",
              "    <tr>\n",
              "      <th>Obesity Reviews</th>\n",
              "      <td>2146</td>\n",
              "    </tr>\n",
              "    <tr>\n",
              "      <th>Pediatric Obesity</th>\n",
              "      <td>1483</td>\n",
              "    </tr>\n",
              "    <tr>\n",
              "      <th>Obesity Research &amp; Clinical Practice</th>\n",
              "      <td>1075</td>\n",
              "    </tr>\n",
              "    <tr>\n",
              "      <th>Obesity Facts</th>\n",
              "      <td>880</td>\n",
              "    </tr>\n",
              "    <tr>\n",
              "      <th>Childhood Obesity</th>\n",
              "      <td>818</td>\n",
              "    </tr>\n",
              "    <tr>\n",
              "      <th>Journal of Obesity</th>\n",
              "      <td>772</td>\n",
              "    </tr>\n",
              "    <tr>\n",
              "      <th>Clinical Obesity</th>\n",
              "      <td>595</td>\n",
              "    </tr>\n",
              "    <tr>\n",
              "      <th>Obesity Science &amp; Practice</th>\n",
              "      <td>568</td>\n",
              "    </tr>\n",
              "    <tr>\n",
              "      <th>Current Obesity Reports</th>\n",
              "      <td>511</td>\n",
              "    </tr>\n",
              "    <tr>\n",
              "      <th>Obesity Medicine</th>\n",
              "      <td>473</td>\n",
              "    </tr>\n",
              "    <tr>\n",
              "      <th>BMC Obesity</th>\n",
              "      <td>238</td>\n",
              "    </tr>\n",
              "    <tr>\n",
              "      <th>The Open Obesity Journal</th>\n",
              "      <td>42</td>\n",
              "    </tr>\n",
              "  </tbody>\n",
              "</table>\n",
              "</div><br><label><b>dtype:</b> int64</label>"
            ],
            "text/plain": [
              "journal.title\n",
              "Obesity Surgery                         7585\n",
              "Obesity                                 6854\n",
              "International Journal of Obesity        6021\n",
              "Obesity Reviews                         2146\n",
              "Pediatric Obesity                       1483\n",
              "Obesity Research & Clinical Practice    1075\n",
              "Obesity Facts                            880\n",
              "Childhood Obesity                        818\n",
              "Journal of Obesity                       772\n",
              "Clinical Obesity                         595\n",
              "Obesity Science & Practice               568\n",
              "Current Obesity Reports                  511\n",
              "Obesity Medicine                         473\n",
              "BMC Obesity                              238\n",
              "The Open Obesity Journal                  42\n",
              "Name: count, dtype: int64"
            ]
          },
          "execution_count": 18,
          "metadata": {},
          "output_type": "execute_result"
        }
      ],
      "source": [
        "filtered_df['journal.title'].value_counts()"
      ]
    },
    {
      "cell_type": "code",
      "execution_count": null,
      "id": "85d2dd22-1625-4ebc-a1a9-f2f02a4ffd89",
      "metadata": {
        "colab": {
          "base_uri": "https://localhost:8080/"
        },
        "id": "85d2dd22-1625-4ebc-a1a9-f2f02a4ffd89",
        "outputId": "6c03f960-225f-4ce9-b920-2be17c357c24"
      },
      "outputs": [
        {
          "name": "stdout",
          "output_type": "stream",
          "text": [
            "Merging complete! Files saved as 'merged_results_filtered.csv'\n"
          ]
        }
      ],
      "source": [
        "# Export as CSV\n",
        "filtered_df.to_csv(os.path.join(folder, 'merged_results_filtered.csv'), index=False)\n",
        "print(\"Merging complete! Files saved as 'merged_results_filtered.csv'\")"
      ]
    },
    {
      "cell_type": "code",
      "execution_count": null,
      "id": "98f82a02-42a5-49d4-a15c-97ec639cece4",
      "metadata": {
        "id": "98f82a02-42a5-49d4-a15c-97ec639cece4"
      },
      "outputs": [],
      "source": []
    }
  ],
  "metadata": {
    "colab": {
      "provenance": []
    },
    "kernelspec": {
      "display_name": "Python 3 (ipykernel)",
      "language": "python",
      "name": "python3"
    },
    "language_info": {
      "codemirror_mode": {
        "name": "ipython",
        "version": 3
      },
      "file_extension": ".py",
      "mimetype": "text/x-python",
      "name": "python",
      "nbconvert_exporter": "python",
      "pygments_lexer": "ipython3",
      "version": "3.11.7"
    }
  },
  "nbformat": 4,
  "nbformat_minor": 5
}
